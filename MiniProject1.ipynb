{
 "cells": [
  {
   "cell_type": "code",
   "execution_count": 13,
   "metadata": {},
   "outputs": [
    {
     "name": "stdout",
     "output_type": "stream",
     "text": [
      "[[ 7.4    0.7    0.    ...  0.56   9.4    0.   ]\n",
      " [ 7.8    0.88   0.    ...  0.68   9.8    0.   ]\n",
      " [ 7.8    0.76   0.04  ...  0.65   9.8    0.   ]\n",
      " ...\n",
      " [ 6.3    0.51   0.13  ...  0.75  11.     1.   ]\n",
      " [ 5.9    0.645  0.12  ...  0.71  10.2    0.   ]\n",
      " [ 6.     0.31   0.47  ...  0.66  11.     1.   ]]\n",
      "[[1000025       5       1 ...       1       1       2]\n",
      " [1002945       5       4 ...       2       1       2]\n",
      " [1015425       3       1 ...       1       1       2]\n",
      " ...\n",
      " [ 888820       5      10 ...      10       2       4]\n",
      " [ 897471       4       8 ...       6       1       4]\n",
      " [ 897471       4       8 ...       4       1       4]]\n"
     ]
    }
   ],
   "source": [
    "import numpy as np\n",
    "from pandas import read_csv as read\n",
    "\n",
    "WINE_DATA_PATH = \"./resources/winequality-red.csv\"\n",
    "CANCER_DATA_PATH = \"./resources/breast-cancer-wisconsin.data\"\n",
    "QUALITY_INDEX = 11\n",
    "\n",
    "wine_dataset = np.array(read(WINE_DATA_PATH, delimiter=\";\"))\n",
    "cancer_dataset = np.array(read(CANCER_DATA_PATH, delimiter=\",\", header=None))\n",
    "\n",
    "# checking for missing values in the wine dataset\n",
    "# if the resulting array is not empty\n",
    "if np.argwhere(np.isnan(wine_dataset)).size > 0:\n",
    "    # deleting rows with missing values\n",
    "    #   np.isnan  - returns boolean with True where NaN, and False elsewhere;\n",
    "    #   .any(axis=1)  - reduces an m*n array to n with an logical or operation on the whole rows;\n",
    "    #   ~  - inverts True/False\n",
    "    wine_dataset = np.array(wine_dataset[~np.isnan(wine_dataset).any(axis=1)])\n",
    "\n",
    "# converting quality ratings of wines to binary values\n",
    "wine_dataset[:, QUALITY_INDEX][wine_dataset[:, QUALITY_INDEX] <= 5] = 0\n",
    "wine_dataset[:, QUALITY_INDEX][wine_dataset[:, QUALITY_INDEX] >= 6] = 1\n",
    "\n",
    "# checking for missing/malformed values in the cancer dataset\n",
    "if np.argwhere(cancer_dataset == '?').size > 0:\n",
    "    cancer_dataset = cancer_dataset[~(cancer_dataset == '?').any(axis=1)]\n",
    "# converting string-values to int type\n",
    "cancer_dataset = cancer_dataset.astype(int)\n",
    "\n",
    "print(wine_dataset)\n",
    "print(cancer_dataset)"
   ]
  },
  {
   "cell_type": "code",
   "execution_count": null,
   "metadata": {},
   "outputs": [],
   "source": []
  }
 ],
 "metadata": {
  "kernelspec": {
   "display_name": "Python 3",
   "language": "python",
   "name": "python3"
  },
  "language_info": {
   "codemirror_mode": {
    "name": "ipython",
    "version": 3
   },
   "file_extension": ".py",
   "mimetype": "text/x-python",
   "name": "python",
   "nbconvert_exporter": "python",
   "pygments_lexer": "ipython3",
   "version": "3.7.3"
  }
 },
 "nbformat": 4,
 "nbformat_minor": 2
}
